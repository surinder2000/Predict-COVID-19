{
 "cells": [
  {
   "cell_type": "code",
   "execution_count": 1,
   "metadata": {},
   "outputs": [
    {
     "name": "stderr",
     "output_type": "stream",
     "text": [
      "Using TensorFlow backend.\n"
     ]
    }
   ],
   "source": [
    "from keras.models import load_model\n",
    "from keras.preprocessing import image\n",
    "from PIL import Image\n",
    "import numpy as np\n",
    "import pandas as pd\n",
    "import wget\n",
    "import smtplib\n",
    "import os\n",
    "import shutil"
   ]
  },
  {
   "cell_type": "code",
   "execution_count": 2,
   "metadata": {},
   "outputs": [],
   "source": [
    "data = pd.read_csv('Getdata.csv')"
   ]
  },
  {
   "cell_type": "code",
   "execution_count": 3,
   "metadata": {},
   "outputs": [],
   "source": [
    "model = load_model('model_covid19.h5')"
   ]
  },
  {
   "cell_type": "code",
   "execution_count": 4,
   "metadata": {},
   "outputs": [],
   "source": [
    " def send_mail(sender_mail,sender_pass,receiver_mail,message): \n",
    "    server = smtplib.SMTP(\"smtp.gmail.com\", 587)\n",
    "    server.ehlo()\n",
    "    server.starttls()\n",
    "    server.ehlo()\n",
    "    \n",
    "    server.login(sender_mail,sender_pass)\n",
    "\n",
    "    server.sendmail(sender_mail,receiver_mail,message) \n",
    "\n",
    "    smtpserver.quit()"
   ]
  },
  {
   "cell_type": "code",
   "execution_count": 5,
   "metadata": {},
   "outputs": [],
   "source": [
    "def url_to_jpg(ID,file_path,file_name):\n",
    "    img_format = '.jpg'\n",
    "    full_path = '{}{}{}'.format(file_path, file_name, img_format)\n",
    "    wget.download(f'https://docs.google.com/uc?export=download&id={ID}', out = full_path)"
   ]
  },
  {
   "cell_type": "code",
   "execution_count": 6,
   "metadata": {},
   "outputs": [],
   "source": [
    "def get_result(img):\n",
    "    img = image.load_img(img,target_size=(224,224))\n",
    "    img = image.img_to_array(img)\n",
    "    img = np.expand_dims(img,axis=0)\n",
    "    out = model.predict_classes(img)\n",
    "    return out"
   ]
  },
  {
   "cell_type": "code",
   "execution_count": 7,
   "metadata": {},
   "outputs": [
    {
     "data": {
      "text/html": [
       "<div>\n",
       "<style scoped>\n",
       "    .dataframe tbody tr th:only-of-type {\n",
       "        vertical-align: middle;\n",
       "    }\n",
       "\n",
       "    .dataframe tbody tr th {\n",
       "        vertical-align: top;\n",
       "    }\n",
       "\n",
       "    .dataframe thead th {\n",
       "        text-align: right;\n",
       "    }\n",
       "</style>\n",
       "<table border=\"1\" class=\"dataframe\">\n",
       "  <thead>\n",
       "    <tr style=\"text-align: right;\">\n",
       "      <th></th>\n",
       "      <th>Timestamp</th>\n",
       "      <th>Email Address</th>\n",
       "      <th>Upload PA view of chest's x-ray image</th>\n",
       "    </tr>\n",
       "  </thead>\n",
       "  <tbody>\n",
       "    <tr>\n",
       "      <th>0</th>\n",
       "      <td>2020/05/10 4:01:52 PM GMT+5:30</td>\n",
       "      <td>sk@gmail.com</td>\n",
       "      <td>https://drive.google.com/u/0/open?usp=forms_we...</td>\n",
       "    </tr>\n",
       "    <tr>\n",
       "      <th>1</th>\n",
       "      <td>2020/05/10 4:02:23 PM GMT+5:30</td>\n",
       "      <td>mm@gmail.com</td>\n",
       "      <td>https://drive.google.com/u/0/open?usp=forms_we...</td>\n",
       "    </tr>\n",
       "    <tr>\n",
       "      <th>2</th>\n",
       "      <td>2020/05/10 4:02:49 PM GMT+5:30</td>\n",
       "      <td>jj@gmail.com</td>\n",
       "      <td>https://drive.google.com/u/0/open?usp=forms_we...</td>\n",
       "    </tr>\n",
       "    <tr>\n",
       "      <th>3</th>\n",
       "      <td>2020/05/10 4:03:20 PM GMT+5:30</td>\n",
       "      <td>ii@gmail.com</td>\n",
       "      <td>https://drive.google.com/u/0/open?usp=forms_we...</td>\n",
       "    </tr>\n",
       "    <tr>\n",
       "      <th>4</th>\n",
       "      <td>2020/05/10 4:03:46 PM GMT+5:30</td>\n",
       "      <td>djkf@gamil.com</td>\n",
       "      <td>https://drive.google.com/u/0/open?usp=forms_we...</td>\n",
       "    </tr>\n",
       "  </tbody>\n",
       "</table>\n",
       "</div>"
      ],
      "text/plain": [
       "                        Timestamp   Email Address  \\\n",
       "0  2020/05/10 4:01:52 PM GMT+5:30    sk@gmail.com   \n",
       "1  2020/05/10 4:02:23 PM GMT+5:30    mm@gmail.com   \n",
       "2  2020/05/10 4:02:49 PM GMT+5:30    jj@gmail.com   \n",
       "3  2020/05/10 4:03:20 PM GMT+5:30    ii@gmail.com   \n",
       "4  2020/05/10 4:03:46 PM GMT+5:30  djkf@gamil.com   \n",
       "\n",
       "               Upload PA view of chest's x-ray image  \n",
       "0  https://drive.google.com/u/0/open?usp=forms_we...  \n",
       "1  https://drive.google.com/u/0/open?usp=forms_we...  \n",
       "2  https://drive.google.com/u/0/open?usp=forms_we...  \n",
       "3  https://drive.google.com/u/0/open?usp=forms_we...  \n",
       "4  https://drive.google.com/u/0/open?usp=forms_we...  "
      ]
     },
     "execution_count": 7,
     "metadata": {},
     "output_type": "execute_result"
    }
   ],
   "source": [
    "data.head()"
   ]
  },
  {
   "cell_type": "code",
   "execution_count": 8,
   "metadata": {},
   "outputs": [],
   "source": [
    "dir_path = 'F:\\MLops'"
   ]
  },
  {
   "cell_type": "code",
   "execution_count": 9,
   "metadata": {},
   "outputs": [],
   "source": [
    "size = data['Upload PA view of chest\\'s x-ray image'].shape[0]"
   ]
  },
  {
   "cell_type": "code",
   "execution_count": 10,
   "metadata": {},
   "outputs": [
    {
     "data": {
      "text/plain": [
       "5"
      ]
     },
     "execution_count": 10,
     "metadata": {},
     "output_type": "execute_result"
    }
   ],
   "source": [
    "size"
   ]
  },
  {
   "cell_type": "code",
   "execution_count": 11,
   "metadata": {},
   "outputs": [],
   "source": [
    "if os.path.isdir(dir_path):\n",
    "    os.mkdir(dir_path+'\\images')"
   ]
  },
  {
   "cell_type": "code",
   "execution_count": 12,
   "metadata": {},
   "outputs": [],
   "source": [
    "file_path = dir_path+'\\images/'"
   ]
  },
  {
   "cell_type": "code",
   "execution_count": 13,
   "metadata": {},
   "outputs": [
    {
     "data": {
      "text/plain": [
       "'F:\\\\MLops\\\\images/'"
      ]
     },
     "execution_count": 13,
     "metadata": {},
     "output_type": "execute_result"
    }
   ],
   "source": [
    "file_path"
   ]
  },
  {
   "cell_type": "code",
   "execution_count": 14,
   "metadata": {},
   "outputs": [
    {
     "name": "stdout",
     "output_type": "stream",
     "text": [
      "100% [..............................................................................] 63413 / 63413"
     ]
    }
   ],
   "source": [
    "for i in range(size):\n",
    "    ID = data['Upload PA view of chest\\'s x-ray image'].iloc[i].split('=')[-1]\n",
    "    file_name = data['Email Address'].iloc[i]\n",
    "    url_to_jpg(ID,file_path,file_name)"
   ]
  },
  {
   "cell_type": "code",
   "execution_count": 15,
   "metadata": {},
   "outputs": [],
   "source": [
    "load_images = os.listdir(file_path)"
   ]
  },
  {
   "cell_type": "code",
   "execution_count": 16,
   "metadata": {},
   "outputs": [
    {
     "data": {
      "text/plain": [
       "['djkf@gamil.com.jpg',\n",
       " 'ii@gmail.com.jpg',\n",
       " 'jj@gmail.com.jpg',\n",
       " 'mm@gmail.com.jpg',\n",
       " 'sk@gmail.com.jpg']"
      ]
     },
     "execution_count": 16,
     "metadata": {},
     "output_type": "execute_result"
    }
   ],
   "source": [
    "load_images"
   ]
  },
  {
   "cell_type": "code",
   "execution_count": 17,
   "metadata": {},
   "outputs": [],
   "source": [
    "res = {1:'NORMAL', 0:'COVID Positive'}"
   ]
  },
  {
   "cell_type": "code",
   "execution_count": 18,
   "metadata": {},
   "outputs": [
    {
     "data": {
      "text/plain": [
       "'COVID Positive'"
      ]
     },
     "execution_count": 18,
     "metadata": {},
     "output_type": "execute_result"
    }
   ],
   "source": [
    "res[0]"
   ]
  },
  {
   "cell_type": "code",
   "execution_count": 19,
   "metadata": {},
   "outputs": [
    {
     "name": "stdout",
     "output_type": "stream",
     "text": [
      "djkf@gamil.com\tNORMAL\n",
      "ii@gmail.com\tNORMAL\n",
      "jj@gmail.com\tNORMAL\n",
      "mm@gmail.com\tCOVID Positive\n",
      "sk@gmail.com\tCOVID Positive\n"
     ]
    }
   ],
   "source": [
    "for img in load_images:\n",
    "    out = get_result(file_path+img)[0][0]\n",
    "    recipient_mail = img.split('.jpg')[0]\n",
    "    message = res[out]\n",
    "    print('{}\\t{}'.format(recipient_mail,message))\n",
    "    #send_mail(sender_mail,sender_pass,recipient_mail,message):\n",
    "    "
   ]
  },
  {
   "cell_type": "code",
   "execution_count": 20,
   "metadata": {},
   "outputs": [],
   "source": [
    "shutil.rmtree(dir_path+'\\images')"
   ]
  },
  {
   "cell_type": "code",
   "execution_count": null,
   "metadata": {},
   "outputs": [],
   "source": []
  }
 ],
 "metadata": {
  "kernelspec": {
   "display_name": "Python 3.6.10 64-bit ('tensorflow_with_keras': conda)",
   "language": "python",
   "name": "python361064bittensorflowwithkerasconda25271fb55d044e3d911353d9c6dbb114"
  },
  "language_info": {
   "codemirror_mode": {
    "name": "ipython",
    "version": 3
   },
   "file_extension": ".py",
   "mimetype": "text/x-python",
   "name": "python",
   "nbconvert_exporter": "python",
   "pygments_lexer": "ipython3",
   "version": "3.6.10"
  }
 },
 "nbformat": 4,
 "nbformat_minor": 2
}
